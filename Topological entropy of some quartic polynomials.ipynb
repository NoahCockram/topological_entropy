{
 "cells": [
  {
   "cell_type": "markdown",
   "metadata": {},
   "source": [
    "# Study of Anca Radulescu 2008 paper on computing topological entropy in a space of quartic polynomials"
   ]
  },
  {
   "cell_type": "code",
   "execution_count": 20,
   "metadata": {},
   "outputs": [],
   "source": [
    "import numpy as np\n",
    "import matplotlib.pyplot as plt\n",
    "from tqdm import tqdm"
   ]
  },
  {
   "cell_type": "code",
   "execution_count": 4,
   "metadata": {},
   "outputs": [],
   "source": [
    "from functools import reduce"
   ]
  },
  {
   "cell_type": "markdown",
   "metadata": {},
   "source": [
    "Let $q_\\lambda:[0,1] \\rightarrow [0,1]$ be a logistic function with parameter $\\lambda \\in [0,4]$, so $q_\\lambda(x) = \\lambda x(1-x)$.  Let $P^Q$ be the parameter space of quartic polynomials which are a composition of two logistic functions.\n",
    "The algorithm in question aims to estimate the topological entropy of a quartic polynomial $g:I \\rightarrow I$, where $I = [0,1]$.  Fix a parameter $(\\lambda,\\mu) \\in P^Q$.  We will estimate the entropy of the quartic map $g = q_\\mu \\circ q_\\lambda$. \n",
    "\n",
    "Let $P^T$ be the parameter space of the tent maps of the form $T_a(x) = a(1 - |x - 1|)$ such that $0 \\leq a \\leq 2$, and let $P^{ST}$ be the space of stunted sawtooth maps.  We let $U^T = \\{(s,t) \\in [-\\log 2, \\log 2]^2, s + t \\geq 0\\}$.\n",
    "\n",
    "The isentrope $i^T(h^*) = \\{(s,t) \\in U^T, s + t = h^*\\}$, and has boundary points $L = (s_l,t_l) = (h^* - \\log 2, \\log 2)$, $R = (s_R,t_R) = (\\log 2, h^* - \\log 2)$.\n",
    "\n",
    "We start with an underestimate $h_0$ and an overestimate $h_1$ for $h(g)$.  We will initialise them as $h_0 = 0$ and $h_1 = 4.1$.  We wish to improve these estimates, and will use an iterated bisection technique.  We wish to do this until we achieve an error range of $|h_1 - h_0| < \\varepsilon = 10^{-4}$.  Then the algorithm stops, returning the final underestimate and final overestimate of $h_0(g) = h_0$ and $h_1(g) = h_1$ respectively. \n",
    "\n",
    "The first step is to compute its pair of critical d'itineraries. \n",
    "\n",
    "First we generate its diorbit, up to the $N$-th iteration of $f_1$ and $f_2$."
   ]
  },
  {
   "cell_type": "code",
   "execution_count": null,
   "metadata": {},
   "outputs": [],
   "source": [
    "def diorbit(f1,f2,x,N):\n",
    "    #This function calculates the diorbit of x under (f1,f2).\n",
    "    L = [x]\n",
    "    for _ in range(N):\n",
    "        L += [f1(L[-1])]\n",
    "        L += [f2(L[-1])]\n",
    "    return L"
   ]
  },
  {
   "cell_type": "markdown",
   "metadata": {},
   "source": [
    "Now we define the d'itinerary of a point $x$ under the functions $f_1: I_1 \\rightarrow I_2$ and $f_2: I_2 \\rightarrow I_1$, which is a sequence of letters from the following alphabets $\\{L_1,C_1,R_1\\}$ and $\\{L_2,C_2,R_2\\}$, where $L_1$ and $R_1$ are the subintervals of points that are left and right of the critical point of $f_1$, respectively, and $C_1 = \\{c_1\\}$, where $c_1$ is the critical point of $f_1$. This is similar for the second alphabet.  Note that if $x \\in I_1$, the d'itinerary starts with $(x, f_1(x), f_2(f_1(x)), ...)$, and if $x \\in I_2$, the d'itinerary starts with $(x, f_2(x), f_1(f_2(x)), ...)$."
   ]
  },
  {
   "cell_type": "code",
   "execution_count": null,
   "metadata": {},
   "outputs": [],
   "source": [
    "def ditinerary(f1,f2,x,N):\n",
    "    #This function calculates the d'itinerary of x under (f1,f2).  Note that the ditinerary of (f1,f2) is distinct to that of (f2,f1)\n",
    "    O = diorbit(f1,f2,x,N)\n",
    "    \n",
    "    L = []\n",
    "    for n in range(N):\n",
    "        #We know that the ditinerary involving alternating choices of f1 and f2, so we simply do both in one step.\n",
    "        #f1\n",
    "        if round(O[n],50) < 0.5:\n",
    "            L += ['L1']\n",
    "        elif round(O[n],50) == 0.5:\n",
    "            L += ['C1']\n",
    "        elif round(O[n],50) > 0.5:\n",
    "            L += ['R1']\n",
    "        #f2\n",
    "        if round(O[n+1],50) < 0.5:\n",
    "            L += ['L2']\n",
    "        elif round(O[n+1],50) == 0.5:\n",
    "            L += ['C2']\n",
    "        elif round(O[n+1],50) > 0.5:\n",
    "            L += ['R2']\n",
    "    \n",
    "    return L"
   ]
  },
  {
   "cell_type": "markdown",
   "metadata": {},
   "source": [
    "Now we will create a function which represents the partial order on itineraries.  Here, we use -1 to indicate that the first input is less than the second, 0 to indicate that they're equal, and 1 to indicate that the first input is greater than the second."
   ]
  },
  {
   "cell_type": "code",
   "execution_count": null,
   "metadata": {},
   "outputs": [],
   "source": [
    "#Functions determining the sign of a ditinerary based on Radulescu 2008\n",
    "def letterSign(A):\n",
    "    if A == 'L1' or A == 'L2':\n",
    "        return 1\n",
    "    elif A == 'C1' or A == 'C2':\n",
    "        return 0\n",
    "    elif A == 'R1' or A == 'R2':\n",
    "        return -1\n",
    "\n",
    "def itSign(I):\n",
    "    return [letterSign(x) for x in I[1:]]\n",
    "\n",
    "def letterOrder(A,B):\n",
    "    if A == B:\n",
    "        return 0\n",
    "    elif A == 'L1' or (A == 'C1' and B == 'R1') or A == 'L2' or (A == 'C2' and B == 'R2'):\n",
    "        return -1\n",
    "    elif B == 'L1' or (B == 'C1' and A == 'R1') or B == 'L2' or (B == 'C2' and A == 'R2'):\n",
    "        return 1\n",
    "\n",
    "def itineraryOrder(I1,I2):\n",
    "    if I1 == I2:\n",
    "        return 0\n",
    "    \n",
    "    k = 0\n",
    "    while I1[k] == I2[k] and k < len(I1):\n",
    "        k += 1\n",
    "    \n",
    "    S = itSign(I1)\n",
    "    \n",
    "    if k == 0:\n",
    "        return letterOrder(I1[0],I2[0])\n",
    "    \n",
    "    if len(S) > 1:\n",
    "        multiSign = reduce(lambda a,b : a*b, S[0:k-1], 1) #First element of itSign will be 0 on the critical d'itineraries, so we omit it.\n",
    "    elif len(S) == 1:\n",
    "        multiSign = S[0]\n",
    "    #print(letterOrder(I1[k],I2[k]), multiSign)\n",
    "    if letterOrder(I1[k],I2[k])*multiSign == 1:\n",
    "        return 1\n",
    "    elif letterOrder(I1[k],I2[k])*multiSign == -1:\n",
    "        return -1"
   ]
  },
  {
   "cell_type": "markdown",
   "metadata": {},
   "source": [
    "Of course, it's not guaranteed that two itineraries or kneading data are comparable.  However, it is proven that given a map $f = q_\\mu \\circ q_\\lambda$, with $(\\mu,\\lambda) \\in P^Q$, and any given isentrope $i^T(h^*)$, there exists a point $C \\in i^T(h^*)$ such that the map $g_C$ has kneading data comparable with the kneading data of $f$, i.e. $K(f)$.  The algorithm to find such a map is an iterated bisection technique.\n",
    "\n",
    "Let $c_1$ and $c_2$ be the critical points of $q_\\lambda$ and $q_\\mu$, respectively.  Let $m_1$ and $m_2$ be the d'itineraries of $c_1$ and $c_2$ under $(q_\\lambda,q_\\mu)$.\n",
    "\n",
    "Given a $h^*$-isentrope, we first check the endpoints $L$ and $R$.  For $X \\in i^T(h^*)$, the critical d'itineraries of $X$ are denoted $(k_1(X),k_2(X))$. The kneading data of $g_X$ is comparable with $K(f)$ iff:\n",
    "\\begin{equation}\n",
    "\\text{either  } \\Bigg\\{ \\begin{aligned}\n",
    "                       k_1(X) \\leq m_1 \\\\\n",
    "                       k_2(X) \\leq m_2\n",
    "                       \\end{aligned} \\text{  or  } \\Bigg\\{ \\begin{aligned}\n",
    "                       k_1(X) \\geq m_1 \\\\\n",
    "                       k_2(X) \\geq m_2\n",
    "                       \\end{aligned}\n",
    "\\end{equation}"
   ]
  },
  {
   "cell_type": "code",
   "execution_count": null,
   "metadata": {},
   "outputs": [],
   "source": [
    "def MapComparability(k1,k2,m1,m2):\n",
    "    #This function checks whether two maps are comparable up to a certain point of their itinerary, or if the comparable map is above or below in the line of parameters.\n",
    "    k1m1 = itineraryOrder(k1,m1)\n",
    "    k2m2 = itineraryOrder(k2,m2)\n",
    "    #print(k1,'\\n',m1)\n",
    "    \n",
    "    #print(k2,'\\n',m2)\n",
    "    if (k1m1 == -1 or k1m1 == 0) and (k2m2 == -1 or k2m2 == 0):\n",
    "        return 'K(M) <= K(f)'\n",
    "    elif (k1m1 == 1 or k1m1 == 0) and (k2m2 == 1 or k2m2 == 0):\n",
    "        return 'K(M) >= K(f)'\n",
    "    elif k1m1 == 1 and k2m2 == -1:\n",
    "        return 'Better upper bound'\n",
    "    elif k1m1 == -1 and k2m2 == 1:\n",
    "        return 'Better lower bound'"
   ]
  },
  {
   "cell_type": "code",
   "execution_count": null,
   "metadata": {},
   "outputs": [],
   "source": [
    "def FindComparableMap(q1,q2,h,N):\n",
    "    #This function finds a comparable sawtooth map given quadratics q1 and q2, and an isentrope at h\n",
    "    n = 10\n",
    "    #calculate ditineraries\n",
    "    m1 = ditinerary(q1,q2,0.5,n)\n",
    "    m2 = ditinerary(q2,q1,0.5,n)\n",
    "    \n",
    "    #lower and upper bounds\n",
    "    L = np.asarray([h - np.log(2),np.log(2)]) - 1e-2\n",
    "    R = np.asarray([np.log(2),h - np.log(2)]) + 1e-2\n",
    "    \n",
    "    fK = lambda K : lambda x : K*(0.5 - abs(x - 0.5))\n",
    "    k = lambda M : [ditinerary(fK(M[0]),fK(M[1]),0.5,n),ditinerary(fK(M[1]),fK(M[0]),0.5,n)]\n",
    "    \n",
    "    #We find comparable maps for the L and R parameters\n",
    "    Lcomp = MapComparability(k(np.exp(L))[0],k(np.exp(L))[1],m1,m2)\n",
    "    Rcomp = MapComparability(k(np.exp(R))[0],k(np.exp(R))[1],m1,m2)\n",
    "    \n",
    "    #If it is immediately comparable, then we are done\n",
    "    if Lcomp == 'K(M) <= K(f)' or Lcomp == 'K(M) >= K(f)':\n",
    "        return Lcomp\n",
    "    if Rcomp == 'K(M) <= K(f)' or Rcomp == 'K(M) >= K(f)':\n",
    "        return Rcomp\n",
    "    \n",
    "    for _ in range(N):\n",
    "        #If not immediately comparable, then we choose the midpoint, compare, and then set the midpoint to be either the new lower bound or new upper bound\n",
    "        M = (L + R)/2\n",
    "        Mcomp = MapComparability(k(np.exp(M))[0],k(np.exp(M))[1],m1,m2)\n",
    "        if Mcomp == 'K(M) <= K(f)' or Mcomp == 'K(M) >= K(f)':\n",
    "            return Mcomp\n",
    "        elif Mcomp == 'Better lower bound':\n",
    "            L = M\n",
    "        elif Mcomp == 'Better upper bound':\n",
    "            R = M\n",
    "    \n",
    "    #Sometimes the MapComparability function continually returns 'Better upper/lower bound' which seems to suggest that the parameter we have is almost exactly at the comparable map,\n",
    "    #but somehow the program isn't detecting it.  I'm not sure what is going on here, but this is a quick fix.\n",
    "    if Mcomp == 'Better lower bound':\n",
    "        return 'K(M) <= K(f)'\n",
    "    else:\n",
    "        return 'K(M) >= K(f)'"
   ]
  },
  {
   "cell_type": "markdown",
   "metadata": {},
   "source": [
    "Now we implement the algorithm for finding the topological entropy of a given map."
   ]
  },
  {
   "cell_type": "code",
   "execution_count": null,
   "metadata": {},
   "outputs": [],
   "source": [
    "def TopologicalEntropy(q1,q2,N=100,nmax=2500,epsilon=1e-4):\n",
    "    #This function takes what we have programmed and computes an approximation of the topological entropy of the quartic polynomial f(x) = q2(q1(x)).\n",
    "    h0 = -0.1\n",
    "    h1 = np.log(4.1)\n",
    "    \n",
    "    for _ in range(nmax):\n",
    "        #We iterate with a bisection method until the absolute difference is small enough\n",
    "        h = (h0 + h1)/2\n",
    "        G = FindComparableMap(q1,q2,h,N)\n",
    "        \n",
    "        if G == 'K(M) <= K(f)':\n",
    "            h0 = h\n",
    "        elif G == 'K(M) >= K(f)':\n",
    "            h1 = h\n",
    "    \n",
    "        if abs(h1 - h0) < epsilon:\n",
    "            break\n",
    "\n",
    "    return h0,h1"
   ]
  },
  {
   "cell_type": "markdown",
   "metadata": {},
   "source": [
    "Test:"
   ]
  },
  {
   "cell_type": "code",
   "execution_count": 97,
   "metadata": {},
   "outputs": [
    {
     "name": "stdout",
     "output_type": "stream",
     "text": [
      "The topological entropy of f(x) = q2(q1(x)) is between -0.1 and -0.09990777667396789\n",
      "The topological entropy of g(x) = q1(q2(x)) is between -0.1 and -0.09990777667396789\n"
     ]
    }
   ],
   "source": [
    "q1 = lambda x : 0.69314718*x*(1-x)\n",
    "q2 = lambda x : 0.36509305*x*(1-x)\n",
    "\n",
    "h = TopologicalEntropy(q1,q2)\n",
    "print(f'The topological entropy of f(x) = q2(q1(x)) is between {h[0]} and {h[1]}')\n",
    "\n",
    "hdash = TopologicalEntropy(q2,q1)\n",
    "print(f'The topological entropy of g(x) = q1(q2(x)) is between {hdash[0]} and {hdash[1]}')"
   ]
  },
  {
   "cell_type": "code",
   "execution_count": null,
   "metadata": {},
   "outputs": [],
   "source": [
    "def DrawEntropy(Precision = 100, N=100, nmax=2500,epsilon=1e-4):\n",
    "    #This function plots the isentropes of of topological entropy within the parameter space of quartic polynomials formed as the composition of two quadratics.\n",
    "\n",
    "    #construct the parameter space\n",
    "    X = np.linspace(0,4,Precision+1)\n",
    "    X1, X2 = np.meshgrid(X,X)\n",
    "    \n",
    "    Z = np.zeros((X1.shape[0],X2.shape[0]))\n",
    "\n",
    "    for ms, m in enumerate(tqdm(X)):\n",
    "        for ns, n in enumerate(X):\n",
    "            #compute topological entropy\n",
    "            q1 = lambda x : m*x*(1-x)\n",
    "            q2 = lambda x : n*x*(1-x)\n",
    "            Z[ms,ns] = sum(TopologicalEntropy(q1,q2,N=N,nmax=nmax,epsilon=epsilon))/2\n",
    "            \n",
    "    fig, ax = plt.subplots(nrows=1,ncols=1,figsize = (10,10))\n",
    "    ax.contour(X1,X2,Z,20)"
   ]
  },
  {
   "cell_type": "code",
   "execution_count": 100,
   "metadata": {},
   "outputs": [
    {
     "name": "stderr",
     "output_type": "stream",
     "text": [
      "  1%|▏         | 3/201 [00:11<13:01,  3.95s/it]\n"
     ]
    },
    {
     "ename": "KeyboardInterrupt",
     "evalue": "",
     "output_type": "error",
     "traceback": [
      "\u001b[31m---------------------------------------------------------------------------\u001b[39m",
      "\u001b[31mKeyboardInterrupt\u001b[39m                         Traceback (most recent call last)",
      "\u001b[36mCell\u001b[39m\u001b[36m \u001b[39m\u001b[32mIn[100]\u001b[39m\u001b[32m, line 1\u001b[39m\n\u001b[32m----> \u001b[39m\u001b[32m1\u001b[39m \u001b[43mDrawEntropy\u001b[49m\u001b[43m(\u001b[49m\u001b[43mPrecision\u001b[49m\u001b[43m \u001b[49m\u001b[43m=\u001b[49m\u001b[43m \u001b[49m\u001b[32;43m200\u001b[39;49m\u001b[43m,\u001b[49m\u001b[43m \u001b[49m\u001b[43mN\u001b[49m\u001b[43m \u001b[49m\u001b[43m=\u001b[49m\u001b[43m \u001b[49m\u001b[32;43m100\u001b[39;49m\u001b[43m)\u001b[49m\n",
      "\u001b[36mCell\u001b[39m\u001b[36m \u001b[39m\u001b[32mIn[98]\u001b[39m\u001b[32m, line 12\u001b[39m, in \u001b[36mDrawEntropy\u001b[39m\u001b[34m(Precision, N, nmax, epsilon)\u001b[39m\n\u001b[32m     10\u001b[39m q2 = \u001b[38;5;28;01mlambda\u001b[39;00m x : n*x*(\u001b[32m1\u001b[39m-x)\n\u001b[32m     11\u001b[39m \u001b[38;5;28;01mtry\u001b[39;00m:\n\u001b[32m---> \u001b[39m\u001b[32m12\u001b[39m     Z[ms,ns] = \u001b[38;5;28msum\u001b[39m(\u001b[43mTopologicalEntropy\u001b[49m\u001b[43m(\u001b[49m\u001b[43mq1\u001b[49m\u001b[43m,\u001b[49m\u001b[43mq2\u001b[49m\u001b[43m,\u001b[49m\u001b[43mN\u001b[49m\u001b[43m=\u001b[49m\u001b[43mN\u001b[49m\u001b[43m,\u001b[49m\u001b[43mnmax\u001b[49m\u001b[43m=\u001b[49m\u001b[43mnmax\u001b[49m\u001b[43m,\u001b[49m\u001b[43mepsilon\u001b[49m\u001b[43m=\u001b[49m\u001b[43mepsilon\u001b[49m\u001b[43m)\u001b[49m)/\u001b[32m2\u001b[39m\n\u001b[32m     13\u001b[39m \u001b[38;5;28;01mexcept\u001b[39;00m \u001b[38;5;167;01mTypeError\u001b[39;00m:\n\u001b[32m     14\u001b[39m     \u001b[38;5;28mprint\u001b[39m(m,n)\n",
      "\u001b[36mCell\u001b[39m\u001b[36m \u001b[39m\u001b[32mIn[96]\u001b[39m\u001b[32m, line 7\u001b[39m, in \u001b[36mTopologicalEntropy\u001b[39m\u001b[34m(q1, q2, N, nmax, epsilon)\u001b[39m\n\u001b[32m      5\u001b[39m \u001b[38;5;28;01mfor\u001b[39;00m _ \u001b[38;5;129;01min\u001b[39;00m \u001b[38;5;28mrange\u001b[39m(nmax):\n\u001b[32m      6\u001b[39m     h = (h0 + h1)/\u001b[32m2\u001b[39m\n\u001b[32m----> \u001b[39m\u001b[32m7\u001b[39m     G = \u001b[43mFindComparableMap\u001b[49m\u001b[43m(\u001b[49m\u001b[43mq1\u001b[49m\u001b[43m,\u001b[49m\u001b[43mq2\u001b[49m\u001b[43m,\u001b[49m\u001b[43mh\u001b[49m\u001b[43m,\u001b[49m\u001b[43mN\u001b[49m\u001b[43m)\u001b[49m\n\u001b[32m      9\u001b[39m     \u001b[38;5;28;01mif\u001b[39;00m G == \u001b[33m'\u001b[39m\u001b[33mK(M) <= K(f)\u001b[39m\u001b[33m'\u001b[39m:\n\u001b[32m     10\u001b[39m         h0 = h\n",
      "\u001b[36mCell\u001b[39m\u001b[36m \u001b[39m\u001b[32mIn[94]\u001b[39m\u001b[32m, line 12\u001b[39m, in \u001b[36mFindComparableMap\u001b[39m\u001b[34m(q1, q2, h, N)\u001b[39m\n\u001b[32m      9\u001b[39m fK = \u001b[38;5;28;01mlambda\u001b[39;00m K : \u001b[38;5;28;01mlambda\u001b[39;00m x : K*(\u001b[32m0.5\u001b[39m - \u001b[38;5;28mabs\u001b[39m(x - \u001b[32m0.5\u001b[39m))\n\u001b[32m     10\u001b[39m k = \u001b[38;5;28;01mlambda\u001b[39;00m M : [ditinerary(fK(M[\u001b[32m0\u001b[39m]),fK(M[\u001b[32m1\u001b[39m]),\u001b[32m0.5\u001b[39m,n),ditinerary(fK(M[\u001b[32m1\u001b[39m]),fK(M[\u001b[32m0\u001b[39m]),\u001b[32m0.5\u001b[39m,n)]\n\u001b[32m---> \u001b[39m\u001b[32m12\u001b[39m Lcomp = MapComparability(k(np.exp(L))[\u001b[32m0\u001b[39m],\u001b[43mk\u001b[49m\u001b[43m(\u001b[49m\u001b[43mnp\u001b[49m\u001b[43m.\u001b[49m\u001b[43mexp\u001b[49m\u001b[43m(\u001b[49m\u001b[43mL\u001b[49m\u001b[43m)\u001b[49m\u001b[43m)\u001b[49m[\u001b[32m1\u001b[39m],m1,m2)\n\u001b[32m     13\u001b[39m Rcomp = MapComparability(k(np.exp(R))[\u001b[32m0\u001b[39m],k(np.exp(R))[\u001b[32m1\u001b[39m],m1,m2)\n\u001b[32m     14\u001b[39m \u001b[38;5;66;03m#print(Lcomp,Rcomp)\u001b[39;00m\n",
      "\u001b[36mCell\u001b[39m\u001b[36m \u001b[39m\u001b[32mIn[94]\u001b[39m\u001b[32m, line 10\u001b[39m, in \u001b[36mFindComparableMap.<locals>.<lambda>\u001b[39m\u001b[34m(M)\u001b[39m\n\u001b[32m      7\u001b[39m R = np.asarray([np.log(\u001b[32m2\u001b[39m),h - np.log(\u001b[32m2\u001b[39m)]) + \u001b[32m1e-6\u001b[39m\n\u001b[32m      9\u001b[39m fK = \u001b[38;5;28;01mlambda\u001b[39;00m K : \u001b[38;5;28;01mlambda\u001b[39;00m x : K*(\u001b[32m0.5\u001b[39m - \u001b[38;5;28mabs\u001b[39m(x - \u001b[32m0.5\u001b[39m))\n\u001b[32m---> \u001b[39m\u001b[32m10\u001b[39m k = \u001b[38;5;28;01mlambda\u001b[39;00m M : [\u001b[43mditinerary\u001b[49m\u001b[43m(\u001b[49m\u001b[43mfK\u001b[49m\u001b[43m(\u001b[49m\u001b[43mM\u001b[49m\u001b[43m[\u001b[49m\u001b[32;43m0\u001b[39;49m\u001b[43m]\u001b[49m\u001b[43m)\u001b[49m\u001b[43m,\u001b[49m\u001b[43mfK\u001b[49m\u001b[43m(\u001b[49m\u001b[43mM\u001b[49m\u001b[43m[\u001b[49m\u001b[32;43m1\u001b[39;49m\u001b[43m]\u001b[49m\u001b[43m)\u001b[49m\u001b[43m,\u001b[49m\u001b[32;43m0.5\u001b[39;49m\u001b[43m,\u001b[49m\u001b[43mn\u001b[49m\u001b[43m)\u001b[49m,ditinerary(fK(M[\u001b[32m1\u001b[39m]),fK(M[\u001b[32m0\u001b[39m]),\u001b[32m0.5\u001b[39m,n)]\n\u001b[32m     12\u001b[39m Lcomp = MapComparability(k(np.exp(L))[\u001b[32m0\u001b[39m],k(np.exp(L))[\u001b[32m1\u001b[39m],m1,m2)\n\u001b[32m     13\u001b[39m Rcomp = MapComparability(k(np.exp(R))[\u001b[32m0\u001b[39m],k(np.exp(R))[\u001b[32m1\u001b[39m],m1,m2)\n",
      "\u001b[36mCell\u001b[39m\u001b[36m \u001b[39m\u001b[32mIn[6]\u001b[39m\u001b[32m, line 17\u001b[39m, in \u001b[36mditinerary\u001b[39m\u001b[34m(f1, f2, x, N)\u001b[39m\n\u001b[32m     15\u001b[39m     \u001b[38;5;28;01melif\u001b[39;00m \u001b[38;5;28mround\u001b[39m(O[n+\u001b[32m1\u001b[39m],\u001b[32m50\u001b[39m) == \u001b[32m0.5\u001b[39m:\n\u001b[32m     16\u001b[39m         L += [\u001b[33m'\u001b[39m\u001b[33mC2\u001b[39m\u001b[33m'\u001b[39m]\n\u001b[32m---> \u001b[39m\u001b[32m17\u001b[39m     \u001b[38;5;28;01melif\u001b[39;00m \u001b[38;5;28mround\u001b[39m(O[n+\u001b[32m1\u001b[39m],\u001b[32m50\u001b[39m) > \u001b[32m0.5\u001b[39m:\n\u001b[32m     18\u001b[39m         L += [\u001b[33m'\u001b[39m\u001b[33mR2\u001b[39m\u001b[33m'\u001b[39m]\n\u001b[32m     20\u001b[39m \u001b[38;5;28;01mreturn\u001b[39;00m L\n",
      "\u001b[31mKeyboardInterrupt\u001b[39m: "
     ]
    }
   ],
   "source": [
    "DrawEntropy(Precision = 200, N = 100)"
   ]
  }
 ],
 "metadata": {
  "kernelspec": {
   "display_name": "Python 3",
   "language": "python",
   "name": "python3"
  },
  "language_info": {
   "codemirror_mode": {
    "name": "ipython",
    "version": 3
   },
   "file_extension": ".py",
   "mimetype": "text/x-python",
   "name": "python",
   "nbconvert_exporter": "python",
   "pygments_lexer": "ipython3",
   "version": "3.11.9"
  }
 },
 "nbformat": 4,
 "nbformat_minor": 2
}
